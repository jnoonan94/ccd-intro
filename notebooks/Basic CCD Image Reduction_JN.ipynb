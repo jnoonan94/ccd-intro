{
 "cells": [
  {
   "cell_type": "markdown",
   "id": "64ded28c",
   "metadata": {},
   "source": [
    "## Reducing Astronomical CCD Data"
   ]
  },
  {
   "cell_type": "markdown",
   "id": "b4884fc4",
   "metadata": {},
   "source": [
    "The calibration of astronomical data from CCDs requires that you account for any readout bias from your detector, the background dark current (the signal measured with the aperture closed), as well as adjust for the detector sensitivity (typically called a flat-field). This notebook is designed to illustrate that process for an example dataset, in a folder you will make called ''ccd-intro-data''. This notebook has been adapted from Example 1 in the [CCD Data Reduction Guide] (https://www.astropy.org/ccd-reduction-and-photometry-guide/v/dev/notebooks/06-03-science-images-calibration-examples.html) \n",
    "\n",
    "First, let's load our Python packages. "
   ]
  },
  {
   "cell_type": "code",
   "execution_count": 2,
   "id": "958dd118",
   "metadata": {},
   "outputs": [],
   "source": [
    "from pathlib import Path\n",
    "\n",
    "from matplotlib import pyplot as plt\n",
    "import numpy as np\n",
    "\n",
    "from astropy import units as u\n",
    "import ccdproc as ccdp"
   ]
  },
  {
   "cell_type": "markdown",
   "id": "3c0a6b92",
   "metadata": {},
   "source": [
    "Next, let's define a function that will check for the best exposure to use given a FITS image and a list of dark exposure times."
   ]
  },
  {
   "cell_type": "code",
   "execution_count": 3,
   "id": "81c79118",
   "metadata": {},
   "outputs": [],
   "source": [
    "def find_nearest_dark_exposure(image, dark_exposure_times, tolerance=0.5):\n",
    "    \"\"\"\n",
    "    Find the nearest exposure time of a dark frame to the exposure time of the image,\n",
    "    raising an error if the difference in exposure time is more than tolerance.\n",
    "    \n",
    "    Parameters\n",
    "    ----------\n",
    "    \n",
    "    image : astropy.nddata.CCDData\n",
    "        Image for which a matching dark is needed.\n",
    "    \n",
    "    dark_exposure_times : list\n",
    "        Exposure times for which there are darks.\n",
    "    \n",
    "    tolerance : float or ``None``, optional\n",
    "        Maximum difference, in seconds, between the image and the closest dark. Set\n",
    "        to ``None`` to skip the tolerance test.\n",
    "    \n",
    "    Returns\n",
    "    -------\n",
    "    \n",
    "    float\n",
    "        Closest dark exposure time to the image.\n",
    "    \"\"\"\n",
    "\n",
    "    dark_exposures = np.array(list(dark_exposure_times))\n",
    "    idx = np.argmin(np.abs(dark_exposures - image.header['exptime']))\n",
    "    closest_dark_exposure = dark_exposures[idx]\n",
    "\n",
    "    if (tolerance is not None and \n",
    "        np.abs(image.header['exptime'] - closest_dark_exposure) > tolerance):\n",
    "        \n",
    "        raise RuntimeError('Closest dark exposure time is {} for flat of exposure '\n",
    "                           'time {}.'.format(closest_dark_exposure, a_flat.header['exptime']))\n",
    "        \n",
    "    \n",
    "    return closest_dark_exposure"
   ]
  },
  {
   "cell_type": "markdown",
   "id": "e8b32434",
   "metadata": {},
   "source": [
    "Next, let's define our data folder create ImageFileCollections for the raw data and the calibrated data, and define variables for the image type of the flat field and the science images (there are, unfortunately, no standard names for these, so double check your FITS header first).\n",
    "\n"
   ]
  },
  {
   "cell_type": "code",
   "execution_count": 17,
   "id": "7e339dba",
   "metadata": {},
   "outputs": [],
   "source": [
    "reduced_path = Path('../../ccd-intro-data/SOAR_3I_20250708_reduced')\n",
    "\n",
    "science_imagetyp = '3IATLAS'\n",
    "#Update these with the exact name that the TO gives to the flat field\n",
    "flat_imagetyp = 'flatfield'\n",
    "exposure = 'exptime'\n",
    "\n",
    "#ifc_reduced = ccdp.ImageFileCollection(reduced_path)\n",
    "ifc_raw = ccdp.ImageFileCollection('../../ccd-intro-data/SOAR_3I_20250708_raw',keywords=['*'])"
   ]
  },
  {
   "cell_type": "markdown",
   "id": "0c720e8b",
   "metadata": {},
   "source": [
    "Next, a quick look at the science images in this data set."
   ]
  },
  {
   "cell_type": "code",
   "execution_count": 25,
   "id": "306bc946",
   "metadata": {},
   "outputs": [
    {
     "data": {
      "text/html": [
       "<div><i>Table length=66</i>\n",
       "<table id=\"table140477546782432\" class=\"table-striped table-bordered table-condensed\">\n",
       "<thead><tr><th>date-obs</th><th>file</th><th>object</th><th>filter</th><th>exptime</th></tr></thead>\n",
       "<thead><tr><th>str23</th><th>str26</th><th>str7</th><th>str6</th><th>float64</th></tr></thead>\n",
       "<tr><td>2025-07-09T04:43:18.384</td><td>0040_3I_atlas.fits</td><td>3IATLAS</td><td>i-SDSS</td><td>60.0</td></tr>\n",
       "<tr><td>2025-07-09T04:46:28.807</td><td>0041_3I_atlas.fits</td><td>3IATLAS</td><td>i-SDSS</td><td>60.0</td></tr>\n",
       "<tr><td>2025-07-09T04:59:32.738</td><td>0042_3I_atlas.fits</td><td>3IATLAS</td><td>i-SDSS</td><td>60.0</td></tr>\n",
       "<tr><td>2025-07-09T05:02:01.990</td><td>0043_3I_atlas.fits</td><td>3IATLAS</td><td>i-SDSS</td><td>60.0</td></tr>\n",
       "<tr><td>2025-07-09T05:05:33.023</td><td>0044_3I_atlas.fits</td><td>3IATLAS</td><td>i-SDSS</td><td>60.0</td></tr>\n",
       "<tr><td>2025-07-09T05:12:46.700</td><td>0045_3I_atlas.fits</td><td>3IATLAS</td><td>i-SDSS</td><td>30.0</td></tr>\n",
       "<tr><td>...</td><td>...</td><td>...</td><td>...</td><td>...</td></tr>\n",
       "<tr><td>2025-07-09T05:58:26.424</td><td>0099_3I_atlas_r.fits</td><td>3IATLAS</td><td>r-SDSS</td><td>30.0</td></tr>\n",
       "<tr><td>2025-07-09T05:59:07.542</td><td>0100_3I_atlas_r.fits</td><td>3IATLAS</td><td>r-SDSS</td><td>30.0</td></tr>\n",
       "<tr><td>2025-07-09T05:59:48.663</td><td>0101_3I_atlas_r.fits</td><td>3IATLAS</td><td>r-SDSS</td><td>30.0</td></tr>\n",
       "<tr><td>2025-07-09T06:00:29.811</td><td>0102_3I_atlas_r.fits</td><td>3IATLAS</td><td>r-SDSS</td><td>30.0</td></tr>\n",
       "<tr><td>2025-07-09T06:01:10.933</td><td>0103_3I_atlas_r.fits</td><td>3IATLAS</td><td>r-SDSS</td><td>30.0</td></tr>\n",
       "<tr><td>2025-07-09T06:01:52.052</td><td>0104_3I_atlas_r.fits</td><td>3IATLAS</td><td>r-SDSS</td><td>30.0</td></tr>\n",
       "<tr><td>2025-07-09T06:02:33.204</td><td>0105_3I_atlas_r.fits</td><td>3IATLAS</td><td>r-SDSS</td><td>30.0</td></tr>\n",
       "</table></div>"
      ],
      "text/plain": [
       "<Table length=66>\n",
       "        date-obs                file          object filter exptime\n",
       "         str23                 str26           str7   str6  float64\n",
       "----------------------- -------------------- ------- ------ -------\n",
       "2025-07-09T04:43:18.384   0040_3I_atlas.fits 3IATLAS i-SDSS    60.0\n",
       "2025-07-09T04:46:28.807   0041_3I_atlas.fits 3IATLAS i-SDSS    60.0\n",
       "2025-07-09T04:59:32.738   0042_3I_atlas.fits 3IATLAS i-SDSS    60.0\n",
       "2025-07-09T05:02:01.990   0043_3I_atlas.fits 3IATLAS i-SDSS    60.0\n",
       "2025-07-09T05:05:33.023   0044_3I_atlas.fits 3IATLAS i-SDSS    60.0\n",
       "2025-07-09T05:12:46.700   0045_3I_atlas.fits 3IATLAS i-SDSS    30.0\n",
       "                    ...                  ...     ...    ...     ...\n",
       "2025-07-09T05:58:26.424 0099_3I_atlas_r.fits 3IATLAS r-SDSS    30.0\n",
       "2025-07-09T05:59:07.542 0100_3I_atlas_r.fits 3IATLAS r-SDSS    30.0\n",
       "2025-07-09T05:59:48.663 0101_3I_atlas_r.fits 3IATLAS r-SDSS    30.0\n",
       "2025-07-09T06:00:29.811 0102_3I_atlas_r.fits 3IATLAS r-SDSS    30.0\n",
       "2025-07-09T06:01:10.933 0103_3I_atlas_r.fits 3IATLAS r-SDSS    30.0\n",
       "2025-07-09T06:01:52.052 0104_3I_atlas_r.fits 3IATLAS r-SDSS    30.0\n",
       "2025-07-09T06:02:33.204 0105_3I_atlas_r.fits 3IATLAS r-SDSS    30.0"
      ]
     },
     "execution_count": 25,
     "metadata": {},
     "output_type": "execute_result"
    }
   ],
   "source": [
    "lights = ifc_raw.summary[ifc_raw.summary['object'] == science_imagetyp.upper()]\n",
    "lights['date-obs', 'file', 'object', 'filter', 'exptime']"
   ]
  },
  {
   "cell_type": "code",
   "execution_count": null,
   "id": "6a61aa11",
   "metadata": {},
   "outputs": [],
   "source": []
  },
  {
   "cell_type": "markdown",
   "id": "1d2d015d",
   "metadata": {},
   "source": [
    "# Reducing Your Dark and Flat Fields\n"
   ]
  },
  {
   "cell_type": "markdown",
   "id": "e8304e48",
   "metadata": {},
   "source": [
    "First we need to reduce our dark files by removing the bias and saving them into our reduced directory"
   ]
  },
  {
   "cell_type": "code",
   "execution_count": null,
   "id": "d0c13f9d",
   "metadata": {},
   "outputs": [],
   "source": [
    "ifc_darks_raw = ImageFileCollection('../../ccd-intro-data/SOAR_3I_20250708_raw/darks')\n",
    "ifc_darks_raw.summary['file', 'imagetyp', 'exptime', 'filter']\n",
    "\n",
    "combined_bias = CCDData.read(ifc_reduced.files_filtered(imagetyp='bias', \n",
    "                                                               combined=True, \n",
    "                                                               include_path=True)[0])\n",
    "for ccd, file_name in ifc_raw.ccds(imagetyp='DARK',            # Just get the bias frames\n",
    "                                          return_fname=True           # Provide the file name too.\n",
    "                                         ):\n",
    "        \n",
    "    # Trim the overscan\n",
    "    ccd = ccdp.trim_image(ccd[:, :4096])\n",
    "    \n",
    "    # Subtract bias\n",
    "    ccd = ccdp.subtract_bias(ccd, combined_bias)\n",
    "    # Save the result\n",
    "    ccd.write(ex2_path_reduced / file_name)\n",
    "    ifc_reduced = ccdp.ImageFileCollection(reduced_path)\n",
    "    ifc_reduced.refresh()\n",
    "    ifc_reduced.summary['file', 'imagetyp', 'exptime', 'filter', 'combined']"
   ]
  },
  {
   "cell_type": "markdown",
   "id": "6e1c1228",
   "metadata": {},
   "source": [
    "Then we can do the same for our flat field images, which need dark and bias correction."
   ]
  },
  {
   "cell_type": "code",
   "execution_count": null,
   "id": "8b49719d",
   "metadata": {},
   "outputs": [],
   "source": [
    "combined_dark_files = ifc_reduced.files_filtered(imagetyp='dark', combined=True)\n",
    "\n",
    "#Update this with the keyword that the SOAR TO uses\n",
    "flat_image_type = 'FLATFIELD'\n",
    "\n",
    "#Check to make sure there are enough dark files to accurately run\n",
    "\n",
    "n_combined_dark = len(combined_dark_files)\n",
    "expected_exposure_times = set([7, 70, 300])\n",
    "\n",
    "if n_combined_dark < 3:\n",
    "    raise RuntimeError('One or more combined dark is missing. Please re-run the dark notebook.')\n",
    "elif n_combined_dark > 3:\n",
    "    raise RuntimeError('There are more combined dark frames than expected.')\n",
    "    \n",
    "actual_exposure_times = set(h['exptime'] for h in ifc_reduced.headers(imagetyp='dark', combined=True))\n",
    "\n",
    "if (expected_exposure_times - actual_exposure_times):\n",
    "    raise RuntimeError('Encountered unexpected exposure time in combined darks. '\n",
    "                       'The unexpected times are {}'.format(actual_exposure_times - expected_exposure_times))\n",
    "    "
   ]
  },
  {
   "cell_type": "markdown",
   "id": "824272e0",
   "metadata": {},
   "source": [
    "Set up the loop to reduce all of the available flats."
   ]
  },
  {
   "cell_type": "code",
   "execution_count": null,
   "id": "c2be669f",
   "metadata": {},
   "outputs": [],
   "source": [
    "for ccd, file_name in ifc_raw.ccds(imagetyp='FLAT',            # Just get the bias frames\n",
    "                                   return_fname=True           # Provide the file name too.\n",
    "                                  ):\n",
    "        \n",
    "    # Trim the overscan\n",
    "    ccd = ccdp.trim_image(ccd[:, :4096])\n",
    "    \n",
    "    # Find the correct dark exposure\n",
    "    closest_dark = find_nearest_dark_exposure(ccd, actual_exposure_times, tolerance=100)\n",
    "    \n",
    "    # Subtract the dark current \n",
    "    ccd = ccdp.subtract_dark(ccd, combined_darks[closest_dark],\n",
    "                             exposure_time='exptime', exposure_unit=u.second, scale=True)\n",
    "\n",
    "    # Save the result\n",
    "    ccd.write(reduced_path / file_name)"
   ]
  },
  {
   "cell_type": "markdown",
   "id": "57973a87",
   "metadata": {},
   "source": [
    "# Setting up for Bias, Dark, and Flat Reduction\n",
    "\n",
    "The next step is building your bias, dark, and flat-field files"
   ]
  },
  {
   "cell_type": "code",
   "execution_count": null,
   "id": "389791ff",
   "metadata": {},
   "outputs": [],
   "source": [
    "#These lines pull the calibrated bias, dark, and flat field images from the reduced folder, so make sure you have them\n",
    "#reduced prior. \n",
    "\n",
    "combined_darks = {ccd.header[exposure]: ccd for ccd in ifc_reduced.ccds(imagetyp='dark', combined=True)}\n",
    "combined_flats = {ccd.header['filter']: ccd for ccd in ifc_reduced.ccds(imagetyp=flat_imagetyp, combined=True)}\n",
    "\n",
    "# There is only one bias, so no need to set up a dictionary.\n",
    "combined_bias = [ccd for ccd in ifc_reduced.ccds(imagetyp='bias', combined=True)][0]\n",
    "\n",
    "#Rembember to run multiple pipelines for multiple filters, each filter needs its own flatfield (one for i-SDSS and\n",
    "#one for r-SDSS) \n",
    "all_images = []\n",
    "light_ccds = []\n",
    "for light, file_name in ifc_raw.ccds(imagetyp=science_imagetyp, return_fname=True):\n",
    "    light_ccds.append(light)\n",
    "    \n",
    "    #Note that we may not need to trim our image, visually inspect via DS9 beforehand\n",
    "    reduced = ccdp.trim_image(light[:, :4096])\n",
    "    \n",
    "    # Note that the first argument in the remainder of the ccdproc calls is\n",
    "    # the *reduced* image, so that the calibration steps are cumulative.\n",
    "    reduced = ccdp.subtract_bias(reduced, combined_bias)\n",
    "    \n",
    "    closest_dark = find_nearest_dark_exposure(reduced, combined_darks.keys())\n",
    "\n",
    "    reduced = ccdp.subtract_dark(reduced, combined_darks[closest_dark], \n",
    "                                 exposure_time='exptime', exposure_unit=u.second)\n",
    "    \n",
    "    good_flat = combined_flats[reduced.header['filter']]\n",
    "    reduced = ccdp.flat_correct(reduced, good_flat)\n",
    "    all_images.append(reduced)\n",
    "    reduced.write(reduced_path / file_name)"
   ]
  }
 ],
 "metadata": {
  "kernelspec": {
   "display_name": "Python 3 (ipykernel)",
   "language": "python",
   "name": "python3"
  },
  "language_info": {
   "codemirror_mode": {
    "name": "ipython",
    "version": 3
   },
   "file_extension": ".py",
   "mimetype": "text/x-python",
   "name": "python",
   "nbconvert_exporter": "python",
   "pygments_lexer": "ipython3",
   "version": "3.9.17"
  }
 },
 "nbformat": 4,
 "nbformat_minor": 5
}
