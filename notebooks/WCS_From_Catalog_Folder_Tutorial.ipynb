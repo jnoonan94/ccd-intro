{
 "cells": [
  {
   "cell_type": "markdown",
   "id": "54434527",
   "metadata": {},
   "source": [
    "# 📌 Assigning WCS Using Gaia Catalog and Image Star Detection\n",
    "\n",
    "When processing lots of data it would become extremely tiresome to need to look up star coordinates to anchor to for each image. This tutorial demonstrates how to:\n",
    "- Detect stars in astronomical images automatically \n",
    "- Query Gaia DR3 catalog for known star positions\n",
    "- Match pixel coordinates to sky coordinates\n",
    "- Compute and assign WCS headers using Astropy\n",
    "- Process a **folder of FITS images** using reusable functions"
   ]
  },
  {
   "cell_type": "code",
   "execution_count": 2,
   "id": "6559ab2f",
   "metadata": {},
   "outputs": [],
   "source": [
    "# Required packages\n",
    "import numpy as np\n",
    "from astropy.io import fits\n",
    "from astropy.wcs.utils import fit_wcs_from_points\n",
    "from astropy.coordinates import SkyCoord\n",
    "from astropy import units as u\n",
    "from astropy.nddata import NDData\n",
    "from astroquery.gaia import Gaia\n",
    "from photutils.detection import DAOStarFinder\n",
    "from astropy.stats import sigma_clipped_stats\n",
    "import matplotlib.pyplot as plt\n",
    "import os, glob"
   ]
  },
  {
   "cell_type": "markdown",
   "id": "38d87dad",
   "metadata": {},
   "source": [
    "## 🔧 Function: Detect Stars in Image"
   ]
  },
  {
   "cell_type": "code",
   "execution_count": 4,
   "id": "6b592e3d",
   "metadata": {},
   "outputs": [],
   "source": [
    "def detect_stars(image_data, fwhm=3.0, threshold_sigma=5.0):\n",
    "    mean, median, std = sigma_clipped_stats(image_data, sigma=3.0)\n",
    "    daofind = DAOStarFinder(fwhm=fwhm, threshold=threshold_sigma*std)\n",
    "    sources = daofind(image_data - median)\n",
    "    return sources"
   ]
  },
  {
   "cell_type": "markdown",
   "id": "529d2319",
   "metadata": {},
   "source": [
    "## 🌌 Function: Query Gaia Around a Given RA/Dec"
   ]
  },
  {
   "cell_type": "code",
   "execution_count": 6,
   "id": "c5ee62d6",
   "metadata": {},
   "outputs": [],
   "source": [
    "def query_gaia(ra, dec, radius_arcmin=5):\n",
    "    coord = SkyCoord(ra*u.deg, dec*u.deg)\n",
    "    job = Gaia.cone_search_async(coord, radius=radius_arcmin*u.arcmin)\n",
    "    return job.get_results()"
   ]
  },
  {
   "cell_type": "markdown",
   "id": "86acc6b0",
   "metadata": {},
   "source": [
    "## 🔭 Function: Assign WCS to Image Based on Matches"
   ]
  },
  {
   "cell_type": "code",
   "execution_count": 8,
   "id": "ac71482d",
   "metadata": {},
   "outputs": [],
   "source": [
    "def assign_wcs(image_path, center_ra, center_dec):\n",
    "    with fits.open(image_path) as hdul:\n",
    "        data = hdul[0].data\n",
    "        header = hdul[0].header\n",
    "        shape = data.shape\n",
    "\n",
    "    sources = detect_stars(data)\n",
    "    xy_coords = np.array([sources['xcentroid'], sources['ycentroid']]).T\n",
    "    gaia_results = query_gaia(center_ra, center_dec)\n",
    "    sky_coords = SkyCoord(ra=gaia_results['ra']*u.deg, dec=gaia_results['dec']*u.deg)\n",
    "\n",
    "    # Limit to same number of sources for rough matching (this can be improved)\n",
    "    n = min(len(sky_coords), len(xy_coords))\n",
    "    wcs = fit_wcs_from_points(xy=xy_coords[:n], world_coords=sky_coords[:n], image_shape=shape)\n",
    "    \n",
    "    header.update(wcs.to_header())\n",
    "    fits.writeto(image_path.replace(\".fits\", \"_wcs.fits\"), data, header, overwrite=True)"
   ]
  },
  {
   "cell_type": "markdown",
   "id": "1b68719d",
   "metadata": {},
   "source": [
    "## 📁 Function: Process a Folder of FITS Files"
   ]
  },
  {
   "cell_type": "code",
   "execution_count": 14,
   "id": "c895b251",
   "metadata": {},
   "outputs": [],
   "source": [
    "def batch_assign_wcs(folder_path, ra_center, dec_center):\n",
    "    fits_files = sorted(glob.glob(os.path.join(folder_path, '*.fits')))\n",
    "    for path in fits_files:\n",
    "        print(f\"Processing {path}...\")\n",
    "        assign_wcs(path, ra_center, dec_center)\n",
    "    print(\"Done.\")"
   ]
  },
  {
   "cell_type": "markdown",
   "id": "4419d316",
   "metadata": {},
   "source": [
    "## ▶️ Run on Your Folder of Data\n",
    "Make sure your images cover the same sky region and are centered approximately at the same RA/Dec."
   ]
  },
  {
   "cell_type": "code",
   "execution_count": null,
   "id": "762cd27c",
   "metadata": {},
   "outputs": [],
   "source": [
    "# Example: run on folder with images near RA=150.0, Dec=2.0\n",
    "# batch_assign_wcs('path/to/fits_folder', 150.0, 2.0)"
   ]
  }
 ],
 "metadata": {
  "kernelspec": {
   "display_name": "Python 3 (ipykernel)",
   "language": "python",
   "name": "python3"
  },
  "language_info": {
   "codemirror_mode": {
    "name": "ipython",
    "version": 3
   },
   "file_extension": ".py",
   "mimetype": "text/x-python",
   "name": "python",
   "nbconvert_exporter": "python",
   "pygments_lexer": "ipython3",
   "version": "3.11.11"
  }
 },
 "nbformat": 4,
 "nbformat_minor": 5
}
